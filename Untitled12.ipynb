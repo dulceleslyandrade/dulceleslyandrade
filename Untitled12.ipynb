{
  "nbformat": 4,
  "nbformat_minor": 0,
  "metadata": {
    "colab": {
      "provenance": []
    },
    "kernelspec": {
      "name": "python3",
      "display_name": "Python 3"
    },
    "language_info": {
      "name": "python"
    }
  },
  "cells": [
    {
      "cell_type": "code",
      "source": [
        "calificaciones = []\n",
        "nombres = []\n",
        "nombres_mayor_promedio = []\n",
        "def leer (calificacion,nombre):\n",
        "   for i in range(10):\n",
        "     nombres.append(input(\"nombre del alumno: \"))\n",
        "     calificaciones.append(float(input(\"calificacion del alumno: \")))\n",
        "def alumno_mayor_promedio(calificaciones,nombres,nombres_mayor_promedio):\n",
        "   for i in range(10):\n",
        "     if calificaciones[i] > 8.5:\n",
        "       nombres_mayor_promedio.append(nombres[i])\n",
        "def resultado (calificaciones,nombres,nombres_mayor_promedio):\n",
        "   print(\"Los alumnos con mayores a 8.5 son: \")\n",
        "   for i in range(len(nombres_mayor_promedio)):\n",
        "     print(nombres_mayor_promedio[i])\n",
        "\n",
        "leer(calificaciones, nombres)\n",
        "alumno_mayor_promedio(calificaciones, nombres, nombres_mayor_promedio)\n",
        "resultado(calificaciones, nombres, nombres_mayor_promedio)"
      ],
      "metadata": {
        "colab": {
          "base_uri": "https://localhost:8080/"
        },
        "id": "PftBgcQaCAmI",
        "outputId": "d521eb70-98c5-4736-b948-0a4c8a65f0fb"
      },
      "execution_count": 8,
      "outputs": [
        {
          "output_type": "stream",
          "name": "stdout",
          "text": [
            "nombre del alumno: bato\n",
            "calificacion del alumno: 5\n",
            "nombre del alumno: raul\n",
            "calificacion del alumno: 5\n",
            "nombre del alumno: vale \n",
            "calificacion del alumno: 10\n",
            "nombre del alumno: samantha\n",
            "calificacion del alumno: 5\n",
            "nombre del alumno: fibre\n",
            "calificacion del alumno: 6\n",
            "nombre del alumno: ale\n",
            "calificacion del alumno: 7\n",
            "nombre del alumno: jesus\n",
            "calificacion del alumno: 8\n",
            "nombre del alumno: santiago\n",
            "calificacion del alumno: 7\n",
            "nombre del alumno: julia\n",
            "calificacion del alumno: 9\n",
            "nombre del alumno: julio\n",
            "calificacion del alumno: 8\n",
            "Los alumnos con mayores a 8.5 son: \n",
            "vale \n",
            "julia\n"
          ]
        }
      ]
    }
  ]
}